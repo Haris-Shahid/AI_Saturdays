{
 "metadata": {
  "colab": {
   "collapsed_sections": [],
   "default_view": {},
   "name": "LinearRegression",
   "provenance": [],
   "version": "0.3.2",
   "views": {}
  },
  "name": "",
  "signature": "sha256:166a8bb7a70916ce6a1d1d7711b35c7532d6ebf6ec886cc768753230918eae53"
 },
 "nbformat": 3,
 "nbformat_minor": 0,
 "worksheets": [
  {
   "cells": [
    {
     "cell_type": "code",
     "collapsed": false,
     "input": [
      "# Importing All dependencies to be Used\n",
      "\n",
      "import tensorflow as tf\n",
      "import numpy as np\n",
      "import matplotlib.pyplot as plt"
     ],
     "language": "python",
     "metadata": {
      "colab": {
       "autoexec": {
        "startup": false,
        "wait_interval": 0
       }
      },
      "colab_type": "code",
      "id": "sscbDhyqIaTG"
     },
     "outputs": [],
     "prompt_number": 1
    },
    {
     "cell_type": "code",
     "collapsed": false,
     "input": [
      "# Training Data\n",
      "train_X = np.asarray([3.3,4.4,5.5,6.71,6.93,4.168,9.779,6.182,7.59,2.167,\n",
      "                         7.042,10.791,5.313,7.997,5.654,9.27,3.1])\n",
      "train_Y = np.asarray([1.7,2.76,2.09,3.19,1.694,1.573,3.366,2.596,2.53,1.221,\n",
      "                         2.827,3.465,1.65,2.904,2.42,2.94,1.3])\n",
      "n_samples = train_X.shape[0]\n",
      "rng=np.random"
     ],
     "language": "python",
     "metadata": {
      "colab": {
       "autoexec": {
        "startup": false,
        "wait_interval": 0
       }
      },
      "colab_type": "code",
      "id": "YKsjtj57Vj9k"
     },
     "outputs": [],
     "prompt_number": 2
    },
    {
     "cell_type": "code",
     "collapsed": false,
     "input": [
      "# Building the Graph!\n",
      "\n",
      "\n",
      "# Declaring Tensorflow variables and placeholders for Linear regression Model\n",
      "# The equation of a line is : y=wx+b\n",
      "# We will declare two tensorflow variables (w and b) and two tensorflow placeholders (x and y)\n",
      "\n",
      "# tf Graph Input\n",
      "X = tf.placeholder(\"float\")\n",
      "Y = tf.placeholder(\"float\")\n",
      "\n",
      "# Set model weights\n",
      "W = tf.Variable(rng.randn(), name=\"weight\")\n",
      "b = tf.Variable(rng.randn(), name=\"bias\")\n",
      "\n",
      "print W"
     ],
     "language": "python",
     "metadata": {
      "colab": {
       "autoexec": {
        "startup": false,
        "wait_interval": 0
       }
      },
      "colab_type": "code",
      "id": "QdCRq5gqT5dz"
     },
     "outputs": [
      {
       "output_type": "stream",
       "stream": "stdout",
       "text": [
        "<tf.Variable 'weight:0' shape=() dtype=float32_ref>\n"
       ]
      }
     ],
     "prompt_number": 3
    },
    {
     "cell_type": "code",
     "collapsed": false,
     "input": [
      "# Defining the Equation of Line\n",
      "\n",
      "pred = tf.add(tf.multiply(X, W), b)  # Equivalent to : pred_y=wx+b\n",
      "\n",
      "# Defining the Loss ( Mean Squared Error )\n",
      "cost = tf.reduce_sum(tf.pow(pred-Y, 2))/(2*n_samples)\n",
      "\n",
      "# Defining the Optimizer\n",
      "optimizer = tf.train.GradientDescentOptimizer(0.01).minimize(cost)\n",
      "\n",
      "# Initializing all variables\n",
      "init=tf.global_variables_initializer()\n",
      "\n",
      "# End Defining the Graph! \n"
     ],
     "language": "python",
     "metadata": {
      "colab": {
       "autoexec": {
        "startup": false,
        "wait_interval": 0
       }
      },
      "colab_type": "code",
      "id": "AE_-zrgYU6hb"
     },
     "outputs": [],
     "prompt_number": 4
    },
    {
     "cell_type": "code",
     "collapsed": false,
     "input": [],
     "language": "python",
     "metadata": {
      "colab": {
       "autoexec": {
        "startup": false,
        "wait_interval": 0
       }
      },
      "colab_type": "code",
      "id": "3UEot9jCbFLv"
     },
     "outputs": [],
     "prompt_number": 0
    },
    {
     "cell_type": "code",
     "collapsed": false,
     "input": [
      "# Start training\n",
      "with tf.Session() as sess:\n",
      "    sess.run(init)\n",
      "\n",
      "    # Fit all training data\n",
      "    for epoch in range(1000):\n",
      "        for (x, y) in zip(train_X, train_Y):\n",
      "            sess.run(optimizer, feed_dict={X: x, Y: y})\n",
      "\n",
      "        #Display logs per epoch step\n",
      "        if (epoch+1) % 50 == 0:\n",
      "            c = sess.run(cost, feed_dict={X: train_X, Y:train_Y})\n",
      "            print \"Epoch:\", '%04d' % (epoch+1), \"cost=\", \"{:.9f}\".format(c), \\\n",
      "                \"W=\", sess.run(W), \"b=\", sess.run(b)\n",
      "\n",
      "    print \"Optimization Finished!\"\n",
      "    training_cost = sess.run(cost, feed_dict={X: train_X, Y: train_Y})\n",
      "    print \"Training cost=\", training_cost, \"W=\", sess.run(W), \"b=\", sess.run(b), '\\n'\n",
      "\n",
      "    #Graphic display\n",
      "    plt.plot(train_X, train_Y, 'ro', label='Original data')\n",
      "    plt.plot(train_X, sess.run(W) * train_X + sess.run(b), label='Fitted line')\n",
      "    plt.legend()\n",
      "    plt.show()"
     ],
     "language": "python",
     "metadata": {
      "colab": {
       "autoexec": {
        "startup": false,
        "wait_interval": 0
       },
       "base_uri": "https://localhost:8080/",
       "height": 738,
       "output_extras": [
        {
         "item_id": 15
        },
        {
         "item_id": 16
        }
       ]
      },
      "colab_type": "code",
      "executionInfo": {
       "elapsed": 7184,
       "status": "ok",
       "timestamp": 1512674797235,
       "user": {
        "displayName": "Muhammad Zaid",
        "photoUrl": "https://lh3.googleusercontent.com/a/default-user=s128",
        "userId": "115872286551813329942"
       },
       "user_tz": -300
      },
      "id": "dbfiNsr_V83p",
      "outputId": "3da547af-32cf-4924-8132-dce99e976c72"
     },
     "outputs": [
      {
       "output_type": "stream",
       "stream": "stdout",
       "text": [
        "Epoch: 0050 cost= 0.082856804 W= 0.29259908 b= 0.49208754\n",
        "Epoch:"
       ]
      },
      {
       "output_type": "stream",
       "stream": "stdout",
       "text": [
        " 0100 cost= 0.082176164 W= 0.29004142 b= 0.51048785\n",
        "Epoch:"
       ]
      },
      {
       "output_type": "stream",
       "stream": "stdout",
       "text": [
        " 0150 cost= 0.081574336 W= 0.28763574 b= 0.5277939\n",
        "Epoch:"
       ]
      },
      {
       "output_type": "stream",
       "stream": "stdout",
       "text": [
        " 0200 cost= 0.081042171 W= 0.28537318 b= 0.54407066\n",
        "Epoch:"
       ]
      },
      {
       "output_type": "stream",
       "stream": "stdout",
       "text": [
        " 0250 cost= 0.080571577 W= 0.28324527 b= 0.55937946\n",
        "Epoch:"
       ]
      },
      {
       "output_type": "stream",
       "stream": "stdout",
       "text": [
        " 0300 cost= 0.080155492 W= 0.28124362 b= 0.5737783\n",
        "Epoch:"
       ]
      },
      {
       "output_type": "stream",
       "stream": "stdout",
       "text": [
        " 0350 cost= 0.079787575 W= 0.27936116 b= 0.58732104\n",
        "Epoch:"
       ]
      },
      {
       "output_type": "stream",
       "stream": "stdout",
       "text": [
        " 0400 cost= 0.079462282 W= 0.2775906 b= 0.6000579\n",
        "Epoch:"
       ]
      },
      {
       "output_type": "stream",
       "stream": "stdout",
       "text": [
        " 0450 cost= 0.079174660 W= 0.27592528 b= 0.6120382\n",
        "Epoch:"
       ]
      },
      {
       "output_type": "stream",
       "stream": "stdout",
       "text": [
        " 0500 cost= 0.078920446 W= 0.27435926 b= 0.6233035\n",
        "Epoch:"
       ]
      },
      {
       "output_type": "stream",
       "stream": "stdout",
       "text": [
        " 0550 cost= 0.078695692 W= 0.2728866 b= 0.63389844\n",
        "Epoch:"
       ]
      },
      {
       "output_type": "stream",
       "stream": "stdout",
       "text": [
        " 0600 cost= 0.078496993 W= 0.2715014 b= 0.6438632\n",
        "Epoch:"
       ]
      },
      {
       "output_type": "stream",
       "stream": "stdout",
       "text": [
        " 0650 cost= 0.078321345 W= 0.27019852 b= 0.65323603\n",
        "Epoch:"
       ]
      },
      {
       "output_type": "stream",
       "stream": "stdout",
       "text": [
        " 0700 cost= 0.078166090 W= 0.26897317 b= 0.6620507\n",
        "Epoch:"
       ]
      },
      {
       "output_type": "stream",
       "stream": "stdout",
       "text": [
        " 0750 cost= 0.078028835 W= 0.26782072 b= 0.6703415\n",
        "Epoch:"
       ]
      },
      {
       "output_type": "stream",
       "stream": "stdout",
       "text": [
        " 0800 cost= 0.077907503 W= 0.26673675 b= 0.6781398\n",
        "Epoch:"
       ]
      },
      {
       "output_type": "stream",
       "stream": "stdout",
       "text": [
        " 0850 cost= 0.077800289 W= 0.26571715 b= 0.68547446\n",
        "Epoch:"
       ]
      },
      {
       "output_type": "stream",
       "stream": "stdout",
       "text": [
        " 0900 cost= 0.077705510 W= 0.26475835 b= 0.6923728\n",
        "Epoch:"
       ]
      },
      {
       "output_type": "stream",
       "stream": "stdout",
       "text": [
        " 0950 cost= 0.077621743 W= 0.26385626 b= 0.69886136\n",
        "Epoch:"
       ]
      }
     ]
    }
   ],
   "metadata": {}
  }
 ]
}