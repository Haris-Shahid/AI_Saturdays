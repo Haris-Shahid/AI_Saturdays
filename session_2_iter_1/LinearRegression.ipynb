{
 "cells": [
  {
   "cell_type": "code",
   "execution_count": 1,
   "metadata": {
    "colab": {
     "autoexec": {
      "startup": false,
      "wait_interval": 0
     }
    },
    "colab_type": "code",
    "id": "sscbDhyqIaTG"
   },
   "outputs": [],
   "source": [
    "# Importing All dependencies to be Used\n",
    "\n",
    "import tensorflow as tf\n",
    "import numpy as np\n",
    "import matplotlib.pyplot as plt"
   ]
  },
  {
   "cell_type": "code",
   "execution_count": 2,
   "metadata": {
    "colab": {
     "autoexec": {
      "startup": false,
      "wait_interval": 0
     }
    },
    "colab_type": "code",
    "id": "YKsjtj57Vj9k"
   },
   "outputs": [],
   "source": [
    "# Training Data\n",
    "train_X = np.asarray([3.3,4.4,5.5,6.71,6.93,4.168,9.779,6.182,7.59,2.167,\n",
    "                         7.042,10.791,5.313,7.997,5.654,9.27,3.1])\n",
    "train_Y = np.asarray([1.7,2.76,2.09,3.19,1.694,1.573,3.366,2.596,2.53,1.221,\n",
    "                         2.827,3.465,1.65,2.904,2.42,2.94,1.3])\n",
    "n_samples = train_X.shape[0]\n",
    "rng=np.random"
   ]
  },
  {
   "cell_type": "code",
   "execution_count": 4,
   "metadata": {
    "colab": {
     "autoexec": {
      "startup": false,
      "wait_interval": 0
     }
    },
    "colab_type": "code",
    "id": "QdCRq5gqT5dz"
   },
   "outputs": [
    {
     "name": "stdout",
     "output_type": "stream",
     "text": [
      "<tf.Variable 'weight:0' shape=() dtype=float32_ref>\n"
     ]
    }
   ],
   "source": [
    "# Building the Graph!\n",
    "\n",
    "\n",
    "# Declaring Tensorflow variables and placeholders for Linear regression Model\n",
    "# The equation of a line is : y=wx+b\n",
    "# We will declare two tensorflow variables (w and b) and two tensorflow placeholders (x and y)\n",
    "\n",
    "# tf Graph Input\n",
    "X = tf.placeholder(\"float\")\n",
    "Y = tf.placeholder(\"float\")\n",
    "\n",
    "# Set model weights\n",
    "W = tf.Variable(rng.randn(), name=\"weight\")\n",
    "b = tf.Variable(rng.randn(), name=\"bias\")\n",
    "\n",
    "print (W)"
   ]
  },
  {
   "cell_type": "code",
   "execution_count": 5,
   "metadata": {
    "colab": {
     "autoexec": {
      "startup": false,
      "wait_interval": 0
     }
    },
    "colab_type": "code",
    "id": "AE_-zrgYU6hb"
   },
   "outputs": [],
   "source": [
    "# Defining the Equation of Line\n",
    "\n",
    "pred = tf.add(tf.multiply(X, W), b)  # Equivalent to : pred_y=wx+b\n",
    "\n",
    "# Defining the Loss ( Mean Squared Error )\n",
    "cost = tf.reduce_sum(tf.pow(pred-Y, 2))/(2*n_samples)\n",
    "\n",
    "# Defining the Optimizer\n",
    "optimizer = tf.train.GradientDescentOptimizer(0.01).minimize(cost)\n",
    "\n",
    "# Initializing all variables\n",
    "init=tf.global_variables_initializer()\n",
    "\n",
    "# End Defining the Graph! \n"
   ]
  },
  {
   "cell_type": "code",
   "execution_count": 0,
   "metadata": {
    "colab": {
     "autoexec": {
      "startup": false,
      "wait_interval": 0
     }
    },
    "colab_type": "code",
    "id": "3UEot9jCbFLv"
   },
   "outputs": [],
   "source": []
  },
  {
   "cell_type": "code",
   "execution_count": 8,
   "metadata": {
    "colab": {
     "autoexec": {
      "startup": false,
      "wait_interval": 0
     },
     "base_uri": "https://localhost:8080/",
     "height": 738,
     "output_extras": [
      {
       "item_id": 15
      },
      {
       "item_id": 16
      }
     ]
    },
    "colab_type": "code",
    "executionInfo": {
     "elapsed": 7184,
     "status": "ok",
     "timestamp": 1512674797235,
     "user": {
      "displayName": "Muhammad Zaid",
      "photoUrl": "https://lh3.googleusercontent.com/a/default-user=s128",
      "userId": "115872286551813329942"
     },
     "user_tz": -300
    },
    "id": "dbfiNsr_V83p",
    "outputId": "3da547af-32cf-4924-8132-dce99e976c72"
   },
   "outputs": [
    {
     "name": "stdout",
     "output_type": "stream",
     "text": [
      "Epoch: 0050 cost= 0.128921956 W= 0.12256251 b= 1.7153189\n",
      "Epoch: 0100 cost= 0.122939065 W= 0.13011767 b= 1.6609676\n",
      "Epoch: 0150 cost= 0.117645971 W= 0.13722356 b= 1.6098485\n",
      "Epoch: 0200 cost= 0.112963147 W= 0.14390686 b= 1.5617692\n",
      "Epoch: 0250 cost= 0.108820379 W= 0.15019251 b= 1.5165509\n",
      "Epoch: 0300 cost= 0.105155334 W= 0.156104 b= 1.4740237\n",
      "Epoch: 0350 cost= 0.101912677 W= 0.1616642 b= 1.4340245\n",
      "Epoch: 0400 cost= 0.099043824 W= 0.16689354 b= 1.3964046\n",
      "Epoch: 0450 cost= 0.096505471 W= 0.17181215 b= 1.3610202\n",
      "Epoch: 0500 cost= 0.094259650 W= 0.17643844 b= 1.3277395\n",
      "Epoch: 0550 cost= 0.092272647 W= 0.18078944 b= 1.2964386\n",
      "Epoch: 0600 cost= 0.090514585 W= 0.18488173 b= 1.2669985\n",
      "Epoch: 0650 cost= 0.088959016 W= 0.18873085 b= 1.2393084\n",
      "Epoch: 0700 cost= 0.087582655 W= 0.19235107 b= 1.2132647\n",
      "Epoch: 0750 cost= 0.086365111 W= 0.19575533 b= 1.1887751\n",
      "Epoch: 0800 cost= 0.085287824 W= 0.19895689 b= 1.1657431\n",
      "Epoch: 0850 cost= 0.084334590 W= 0.20196816 b= 1.1440803\n",
      "Epoch: 0900 cost= 0.083490998 W= 0.20480058 b= 1.1237042\n",
      "Epoch: 0950 cost= 0.082744688 W= 0.20746414 b= 1.104543\n",
      "Epoch: 1000 cost= 0.082084171 W= 0.20996957 b= 1.0865189\n",
      "Optimization Finished!\n",
      "Training cost= 0.08208417 W= 0.20996957 b= 1.0865189 \n",
      "\n"
     ]
    },
    {
     "data": {
      "image/png": "[encoded data removed]",
      "text/plain": [
       "<matplotlib.figure.Figure at 0x241225a9e8>"
      ]
     },
     "metadata": {},
     "output_type": "display_data"
    }
   ],
   "source": [
    "# Start training\n",
    "with tf.Session() as sess:\n",
    "    sess.run(init)\n",
    "\n",
    "    # Fit all training data\n",
    "    for epoch in range(1000):\n",
    "        for (x, y) in zip(train_X, train_Y):\n",
    "            sess.run(optimizer, feed_dict={X: x, Y: y})\n",
    "\n",
    "        #Display logs per epoch step\n",
    "        if (epoch+1) % 50 == 0:\n",
    "            c = sess.run(cost, feed_dict={X: train_X, Y:train_Y})\n",
    "            print (\"Epoch:\", '%04d' % (epoch+1), \"cost=\", \"{:.9f}\".format(c), \\\n",
    "                \"W=\", sess.run(W), \"b=\", sess.run(b))\n",
    "\n",
    "    print (\"Optimization Finished!\")\n",
    "    training_cost = sess.run(cost, feed_dict={X: train_X, Y: train_Y})\n",
    "    print (\"Training cost=\", training_cost, \"W=\", sess.run(W), \"b=\", sess.run(b), '\\n')\n",
    "\n",
    "    #Graphic display\n",
    "    plt.plot(train_X, train_Y, 'ro', label='Original data')\n",
    "    plt.plot(train_X, sess.run(W) * train_X + sess.run(b), label='Fitted line')\n",
    "    plt.legend()\n",
    "    plt.show()"
   ]
  }
 ],
 "metadata": {
  "colab": {
   "collapsed_sections": [],
   "default_view": {},
   "name": "LinearRegression",
   "provenance": [],
   "version": "0.3.2",
   "views": {}
  },
  "kernelspec": {
   "display_name": "Python 3",
   "language": "python",
   "name": "python3"
  },
  "language_info": {
   "codemirror_mode": {
    "name": "ipython",
    "version": 3
   },
   "file_extension": ".py",
   "mimetype": "text/x-python",
   "name": "python",
   "nbconvert_exporter": "python",
   "pygments_lexer": "ipython3",
   "version": "3.5.4"
  }
 },
 "nbformat": 4,
 "nbformat_minor": 1
}
